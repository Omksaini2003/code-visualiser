{
 "cells": [
  {
   "cell_type": "code",
   "execution_count": 9,
   "metadata": {},
   "outputs": [
    {
     "name": "stdout",
     "output_type": "stream",
     "text": [
      "Line: 'void solve(){'\n",
      "Match: <re.Match object; span=(0, 5), match='void '>\n",
      "\n",
      "Line: 'int add(int a, int b) {'\n",
      "Match: <re.Match object; span=(0, 4), match='int '>\n",
      "\n",
      "Line: 'void example() {'\n",
      "Match: <re.Match object; span=(0, 5), match='void '>\n",
      "\n",
      "Line: 'double  compute   (double x, double y) {'\n",
      "Match: <re.Match object; span=(0, 8), match='double  '>\n",
      "\n",
      "Line: 'template <typename T> void process(T data) {'\n",
      "Match: <re.Match object; span=(0, 9), match='template '>\n",
      "\n",
      "Line: 'void testFunction() // some comment {'\n",
      "Match: <re.Match object; span=(0, 5), match='void '>\n",
      "\n",
      "Line: 'void anotherFunction( int x ) {'\n",
      "Match: <re.Match object; span=(0, 5), match='void '>\n",
      "\n",
      "Line: 'void   spacedFunction   ()   {'\n",
      "Match: <re.Match object; span=(0, 7), match='void   '>\n",
      "\n",
      "Line: 'void misformattedFunction (int x {'\n",
      "Match: <re.Match object; span=(0, 5), match='void '>\n",
      "\n",
      "Line: 'void incorrectFormat() }'\n",
      "Match: <re.Match object; span=(0, 5), match='void '>\n",
      "\n"
     ]
    }
   ],
   "source": [
    "import re\n",
    "\n",
    "# Comprehensive regex pattern for matching function definitions\n",
    "function_pattern = re.compile(r'([a-zA-Z_][a-zA-Z0-9_]*)([\\n\\r\\s]+)')\n",
    "\n",
    "# Test cases\n",
    "lines = [\n",
    "    \"void solve(){\",                         # Matches\n",
    "    \"int add(int a, int b) {\",               # Matches\n",
    "    \"void example() {\",                     # Matches\n",
    "    \"double  compute   (double x, double y) {\",  # Matches\n",
    "    \"template <typename T> void process(T data) {\", # Matches\n",
    "    \"void testFunction() // some comment {\", # Should not match\n",
    "    \"void anotherFunction( int x ) {\",      # Matches\n",
    "    \"void   spacedFunction   ()   {\",       # Matches\n",
    "    \"void misformattedFunction (int x {\",   # Should not match (missing `)`)\n",
    "    \"void incorrectFormat() }\"               # Should not match (brace `}` in the wrong position)\n",
    "]\n",
    "\n",
    "for line in lines:\n",
    "    match = function_pattern.match(line)\n",
    "    if match:\n",
    "        print(f\"Line: '{line}'\")\n",
    "        print(\"Match:\", match)\n",
    "    else:\n",
    "        print(f\"Line: '{line}'\")\n",
    "        print(\"No match\")\n",
    "    print()\n"
   ]
  },
  {
   "cell_type": "code",
   "execution_count": 3,
   "metadata": {},
   "outputs": [
    {
     "name": "stdout",
     "output_type": "stream",
     "text": [
      "Original Line: 'void solve(){'\n",
      "Encoded Line: b'void solve(){'\n",
      "Match: void \n",
      "\n",
      "Original Line: 'int add(int a, int b) {'\n",
      "Encoded Line: b'int add(int a, int b) {'\n",
      "Match: int \n",
      "\n",
      "Original Line: 'void example() {'\n",
      "Encoded Line: b'void example() {'\n",
      "Match: void \n",
      "\n",
      "Original Line: 'double  compute   (double x, double y) {'\n",
      "Encoded Line: b'double  compute   (double x, double y) {'\n",
      "Match: double  \n",
      "\n",
      "Original Line: 'template <typename T> void process(T data) {'\n",
      "Encoded Line: b'template <typename T> void process(T data) {'\n",
      "Match: template \n",
      "\n",
      "Original Line: 'void testFunction() // some comment {'\n",
      "Encoded Line: b'void testFunction() // some comment {'\n",
      "Match: void \n",
      "\n",
      "Original Line: 'void anotherFunction( int x ) {'\n",
      "Encoded Line: b'void anotherFunction( int x ) {'\n",
      "Match: void \n",
      "\n",
      "Original Line: 'void   spacedFunction   ()   {'\n",
      "Encoded Line: b'void   spacedFunction   ()   {'\n",
      "Match: void   \n",
      "\n",
      "Original Line: 'void misformattedFunction (int x {'\n",
      "Encoded Line: b'void misformattedFunction (int x {'\n",
      "Match: void \n",
      "\n",
      "Original Line: 'void incorrectFormat() }'\n",
      "Encoded Line: b'void incorrectFormat() }'\n",
      "Match: void \n",
      "\n"
     ]
    }
   ],
   "source": [
    "import re\n",
    "\n",
    "# Updated regex pattern\n",
    "function_pattern = re.compile(r'([a-zA-Z_][a-zA-Z0-9_]*)([\\n\\r\\s]+)')\n",
    "\n",
    "# Test cases\n",
    "lines = [\n",
    "    \"void solve(){\",\n",
    "    \"int add(int a, int b) {\",\n",
    "    \"void example() {\",\n",
    "    \"double  compute   (double x, double y) {\", # catas\n",
    "    \"template <typename T> void process(T data) {\",\n",
    "    \"void testFunction() // some comment {\",\n",
    "    \"void anotherFunction( int x ) {\",\n",
    "    \"void   spacedFunction   ()   {\", #catas\n",
    "    \"void misformattedFunction (int x {\", #catas\n",
    "    \"void incorrectFormat() }\"\n",
    "]\n",
    "\n",
    "for line in lines:\n",
    "    # Print the line and its encoded form to check for hidden characters\n",
    "    print(f\"Original Line: '{line}'\")\n",
    "    print(f\"Encoded Line: {line.encode('unicode_escape')}\")\n",
    "    \n",
    "    # Attempt to match the pattern\n",
    "    match = function_pattern.match(line)\n",
    "    \n",
    "    if match:\n",
    "        print(\"Match:\", match.group(0))\n",
    "    else:\n",
    "        print(\"No match\")\n",
    "    print()\n"
   ]
  },
  {
   "cell_type": "code",
   "execution_count": 20,
   "metadata": {},
   "outputs": [
    {
     "ename": "IndexError",
     "evalue": "no such group",
     "output_type": "error",
     "traceback": [
      "\u001b[1;31m---------------------------------------------------------------------------\u001b[0m",
      "\u001b[1;31mIndexError\u001b[0m                                Traceback (most recent call last)",
      "Cell \u001b[1;32mIn[20], line 8\u001b[0m\n\u001b[0;32m      5\u001b[0m function_pattern \u001b[38;5;241m=\u001b[39m re\u001b[38;5;241m.\u001b[39mcompile(regex)\n\u001b[0;32m      6\u001b[0m matches \u001b[38;5;241m=\u001b[39m \u001b[38;5;28mlist\u001b[39m(re\u001b[38;5;241m.\u001b[39mfinditer(regex, line, re\u001b[38;5;241m.\u001b[39mMULTILINE))\n\u001b[1;32m----> 8\u001b[0m \u001b[38;5;28mprint\u001b[39m(\u001b[43mmatches\u001b[49m\u001b[43m[\u001b[49m\u001b[38;5;241;43m-\u001b[39;49m\u001b[38;5;241;43m1\u001b[39;49m\u001b[43m]\u001b[49m\u001b[38;5;241;43m.\u001b[39;49m\u001b[43mgroup\u001b[49m\u001b[43m(\u001b[49m\u001b[38;5;241;43m2\u001b[39;49m\u001b[43m)\u001b[49m)\n",
      "\u001b[1;31mIndexError\u001b[0m: no such group"
     ]
    }
   ],
   "source": [
    "regex = r\"(?![a-z])[^\\:,>,\\.]([a-z,A-Z]+[_]*[a-z,A-Z]*)+[(]\"\n",
    "\n",
    "\n",
    "line = \"void solve(){\"\n",
    "function_pattern = re.compile(regex)\n",
    "matches = list(re.finditer(regex, line, re.MULTILINE))\n",
    "\n",
    "print(matches[-1].group(2))"
   ]
  },
  {
   "cell_type": "code",
   "execution_count": 11,
   "metadata": {},
   "outputs": [
    {
     "name": "stdout",
     "output_type": "stream",
     "text": [
      "Match 1 was found at 4-11:  solve(\n",
      "Group 1 found at 5-10: solve\n"
     ]
    }
   ],
   "source": [
    "# coding=utf8\n",
    "# the above tag defines encoding for this document and is for Python 2.x compatibility\n",
    "\n",
    "import re\n",
    "\n",
    "regex = r\"(?![a-z])[^\\:,>,\\.]([a-z,A-Z]+[_]*[a-z,A-Z]*)+[(]\"\n",
    "\n",
    "test_str = \"void solve(){\"\n",
    "\n",
    "matches = re.finditer(regex, test_str, re.MULTILINE)\n",
    "\n",
    "for matchNum, match in enumerate(matches, start=1):\n",
    "    \n",
    "    print (\"Match {matchNum} was found at {start}-{end}: {match}\".format(matchNum = matchNum, start = match.start(), end = match.end(), match = match.group()))\n",
    "    \n",
    "    for groupNum in range(0, len(match.groups())):\n",
    "        groupNum = groupNum + 1\n",
    "        \n",
    "        print (\"Group {groupNum} found at {start}-{end}: {group}\".format(groupNum = groupNum, start = match.start(groupNum), end = match.end(groupNum), group = match.group(groupNum)))\n",
    "\n",
    "# Note: for Python 2.7 compatibility, use ur\"\" to prefix the regex and u\"\" to prefix the test string and substitution.\n"
   ]
  },
  {
   "cell_type": "code",
   "execution_count": null,
   "metadata": {},
   "outputs": [],
   "source": []
  },
  {
   "cell_type": "code",
   "execution_count": 24,
   "metadata": {},
   "outputs": [
    {
     "data": {
      "text/plain": [
       "''"
      ]
     },
     "execution_count": 24,
     "metadata": {},
     "output_type": "execute_result"
    }
   ],
   "source": []
  },
  {
   "cell_type": "code",
   "execution_count": null,
   "metadata": {},
   "outputs": [],
   "source": []
  }
 ],
 "metadata": {
  "kernelspec": {
   "display_name": "Python 3",
   "language": "python",
   "name": "python3"
  },
  "language_info": {
   "codemirror_mode": {
    "name": "ipython",
    "version": 3
   },
   "file_extension": ".py",
   "mimetype": "text/x-python",
   "name": "python",
   "nbconvert_exporter": "python",
   "pygments_lexer": "ipython3",
   "version": "3.12.2"
  }
 },
 "nbformat": 4,
 "nbformat_minor": 2
}
